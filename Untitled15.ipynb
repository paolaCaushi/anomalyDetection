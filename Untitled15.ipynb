{
  "nbformat": 4,
  "nbformat_minor": 0,
  "metadata": {
    "colab": {
      "provenance": [],
      "authorship_tag": "ABX9TyPmZ53Q8fXAM3PBmZ/my5IH",
      "include_colab_link": true
    },
    "kernelspec": {
      "name": "python3",
      "display_name": "Python 3"
    },
    "language_info": {
      "name": "python"
    }
  },
  "cells": [
    {
      "cell_type": "markdown",
      "metadata": {
        "id": "view-in-github",
        "colab_type": "text"
      },
      "source": [
        "<a href=\"https://colab.research.google.com/github/paolaCaushi/anomalyDetection/blob/main/Untitled15.ipynb\" target=\"_parent\"><img src=\"https://colab.research.google.com/assets/colab-badge.svg\" alt=\"Open In Colab\"/></a>"
      ]
    },
    {
      "cell_type": "markdown",
      "source": [
        "1. Import libraries\n"
      ],
      "metadata": {
        "id": "ph7OZmd-TEQh"
      }
    },
    {
      "cell_type": "code",
      "source": [
        "import pandas as pd\n",
        "from sklearn.model_selection import train_test_split\n",
        "from sklearn.ensemble import RandomForestClassifier\n",
        "import matplotlib.pyplot as plt\n"
      ],
      "metadata": {
        "id": "C4Y93-clhMZk"
      },
      "execution_count": null,
      "outputs": []
    },
    {
      "cell_type": "markdown",
      "source": [
        "2. Load data and preprocess\n",
        "\n"
      ],
      "metadata": {
        "id": "ywUxCdtzhdVe"
      }
    },
    {
      "cell_type": "code",
      "source": [
        "import openpyxl\n",
        "import numpy as np\n",
        "\n",
        "# Specify the path to  Excel file\n",
        "data_file = \"Anomalie_2021_2024.xlsx\"\n",
        "\n",
        "# Load the workbook and sheet\n",
        "wb = openpyxl.load_workbook(data_file)\n",
        "sheet = wb[\"Sheet1\"]\n",
        "\n",
        "\n",
        "# Read data from Sheet1 into a DataFrame (replace 'Sheet1' if needed)\n",
        "df = pd.read_excel(data_file, sheet_name=\"Sheet1\", header=0)\n",
        "print(df.columns)\n",
        "\n",
        "# Print basic information about the data\n",
        "print(f\"Sheet name: {sheet.title}\")\n",
        "print(f\"Number of rows (including header): {sheet.max_row}\")\n",
        "print(f\"Number of columns: {sheet.max_column}\")\n",
        "\n",
        "# Create empty lists to store data and target variable\n",
        "data = []\n",
        "target = []\n",
        "\n",
        "# Iterate through rows (skipping the header row)\n",
        "for row in sheet.iter_rows(min_row=2):\n",
        "  # Extract features from all columns (assuming all features are relevant)\n",
        "  features = [cell.value for cell in row]\n",
        "  # Extract target variable based on 'idPunto' being null\n",
        "  target_value = 1 if row[8].value == \"NULL\" else 0\n",
        "  # Assuming 'idPunto' is the 8th column based on excel file\n",
        "  # Append data and target to lists\n",
        "  data.append(features)\n",
        "  target.append(target_value)\n",
        "\n",
        "# Print a sample of the data (first 5 rows)\n",
        "print(\"\\nSample of the data (first 5 rows):\")\n",
        "for i in range(5):\n",
        "  print(data[i])\n",
        "\n",
        "# Print the distribution of the target variable (number of theft cases vs. non-theft cases)\n",
        "# Supposing that may be theft when idPunto==NULL (we don't know the place the truck is)\n",
        "theft_count = target.count(1)\n",
        "non_theft_count = target.count(0)\n",
        "print(f\"\\nDistribution of target variable:\")\n",
        "print(f\"--- Theft cases (Punto ID unknown): {theft_count}\")\n",
        "print(f\"--- Non Theft cases (Punto ID known): {non_theft_count}\")\n",
        "\n",
        "# Visualize the distribution with a bar chart\n",
        "plt.bar([\"Theft\", \"Non-Theft\"], [theft_count, non_theft_count])\n",
        "plt.xlabel(\"Target Class\")\n",
        "plt.ylabel(\"Number of Cases\")\n",
        "plt.show()\n",
        "\n",
        "# Convert lists to numpy arrays for better performance with scikit-learn)\n",
        "X = np.array(data)\n",
        "y = np.array(target)\n",
        "\n",
        "# Print the shapes of the feature matrix (X) and target vector (y)\n",
        "print(\"\\nShapes of data and target:\")\n",
        "print(f\"  - Feature matrix (X): {X.shape}\")\n",
        "print(f\"  - Target Vector (y): {y.shape}\")"
      ],
      "metadata": {
        "id": "-GgxJpQWhfH9",
        "colab": {
          "base_uri": "https://localhost:8080/",
          "height": 849
        },
        "outputId": "04c0892c-9e97-40a9-d79b-68e2ecccd65a"
      },
      "execution_count": null,
      "outputs": [
        {
          "output_type": "stream",
          "name": "stdout",
          "text": [
            "Index(['idAnomalia', 'idConcentratore', 'dataAnomalia', 'latitudine',\n",
            "       'longitudine', 'dataCoordinate', 'dataSegnalazione', 'note', 'idPunto'],\n",
            "      dtype='object')\n",
            "Sheet name: Sheet1\n",
            "Number of rows (including header): 215005\n",
            "Number of columns: 9\n",
            "\n",
            "Sample of the data (first 5 rows):\n",
            "[18526375, 'SR013287', datetime.datetime(2023, 5, 26, 12, 16, 28), '39,2512', '9,1338', datetime.datetime(2023, 5, 26, 12, 16, 28), datetime.datetime(2015, 4, 22, 14, 24, 1, 353000), 'NULL', 'NULL']\n",
            "[18699686, 'SR013287', datetime.datetime(2023, 1, 11, 13, 46, 47), '39,2585', '9,0723', datetime.datetime(2023, 1, 11, 13, 46, 47), datetime.datetime(2015, 6, 27, 9, 5, 7, 203000), 'NULL', 45267]\n",
            "[19367851, 'SR013279', datetime.datetime(2022, 10, 10, 8, 42, 46), '40,124', '18,3356', datetime.datetime(2022, 10, 10, 8, 42, 46), datetime.datetime(2015, 10, 12, 9, 7, 23, 653000), 'NULL', 42607]\n",
            "[21068660, 'SR013279', datetime.datetime(2022, 3, 26, 7, 52, 15), '41,2507', '16,2203', datetime.datetime(2022, 3, 26, 7, 52, 15), datetime.datetime(2016, 4, 16, 9, 1, 19, 923000), 'NULL', 40981]\n",
            "[21076623, 'SR010385', datetime.datetime(2022, 3, 28, 6, 58, 52), '44,2287', '12,0657', datetime.datetime(2022, 3, 28, 6, 58, 52), datetime.datetime(2016, 4, 18, 7, 13, 12, 357000), 'NULL', 'NULL']\n",
            "\n",
            "Distribution of target variable:\n",
            "--- Theft cases (Punto ID unknown): 55090\n",
            "--- Non Theft cases (Punto ID known): 159914\n"
          ]
        },
        {
          "output_type": "display_data",
          "data": {
            "text/plain": [
              "<Figure size 640x480 with 1 Axes>"
            ],
            "image/png": "[encoded data removed]"
          },
          "metadata": {}
        },
        {
          "output_type": "stream",
          "name": "stdout",
          "text": [
            "\n",
            "Shapes of data and target:\n",
            "  - Feature matrix (X): (215004, 9)\n",
            "  - Target Vector (y): (215004,)\n"
          ]
        }
      ]
    },
    {
      "cell_type": "markdown",
      "source": [
        "3. Splitting Data into Training and Testing Sets\n"
      ],
      "metadata": {
        "id": "787yLR_HxW8A"
      }
    },
    {
      "cell_type": "code",
      "source": [
        "# Split data into training and testing sets (already imported libraries from Step 1)\n",
        "X_train, X_test, y_train, y_test = train_test_split(X, y, test_size=0.2, random_state=42)\n",
        "########################################################################\n",
        "# Convert X_train and X_test (optional) to DataFrames (**insert here**)\n",
        "X_train_df = pd.DataFrame(X_train)  # Convert X_train (NumPy array) to a DataFrame\n",
        "print(X_train_df.columns)\n",
        "\n",
        "\n",
        "X_test_df = pd.DataFrame(X_test)  # Convert X_test (NumPy array) to a DataFrame (optional, for later use)\n",
        "####################################################################\n",
        "# Print the shapes of the training and testing sets\n",
        "print(\"\\nShapes of training and testing sets:\")\n",
        "print(f\"  - X_train: {X_train.shape}\")\n",
        "print(f\"  - X_test: {X_test.shape}\")\n",
        "print(f\"  - y_train: {y_train.shape}\")\n",
        "print(f\"  - y_test: {y_test.shape}\")\n"
      ],
      "metadata": {
        "colab": {
          "base_uri": "https://localhost:8080/"
        },
        "id": "86u1h47VxpOD",
        "outputId": "9d55b13f-e193-4720-b397-8246ab08fdba"
      },
      "execution_count": null,
      "outputs": [
        {
          "output_type": "stream",
          "name": "stdout",
          "text": [
            "RangeIndex(start=0, stop=9, step=1)\n",
            "\n",
            "Shapes of training and testing sets:\n",
            "  - X_train: (172003, 9)\n",
            "  - X_test: (43001, 9)\n",
            "  - y_train: (172003,)\n",
            "  - y_test: (43001,)\n"
          ]
        }
      ]
    },
    {
      "cell_type": "markdown",
      "source": [
        "4. Distribution of a single feature  or Distribution of the Target Value"
      ],
      "metadata": {
        "id": "63xbALv11NYD"
      }
    },
    {
      "cell_type": "code",
      "source": [
        "# Count occurrences of each class in training and testing sets\n",
        "theft_counts_train = (y_train == 1).sum()\n",
        "non_theft_counts_train = (y_train == 0).sum()\n",
        "\n",
        "theft_counts_test = (y_test == 1).sum()\n",
        "non_theft_counts_test = (y_test == 0).sum()\n",
        "\n",
        "# Plot the distribution using a bar chart\n",
        "plt.bar([\"Theft\", \"Non-Theft\"], [theft_counts_train, non_theft_counts_train], label=\"Training Set\")\n",
        "plt.bar([\"Theft\", \"Non-Theft\"], [theft_counts_test, non_theft_counts_test], label=\"Testing Set\", bottom=[theft_counts_train, non_theft_counts_train])\n",
        "plt.xlabel(\"Target Class\")\n",
        "plt.ylabel(\"Number of Cases\")\n",
        "plt.title(\"Distribution of Theft Cases in Training and Testing Sets\")\n",
        "plt.legend()\n",
        "plt.show()"
      ],
      "metadata": {
        "colab": {
          "base_uri": "https://localhost:8080/",
          "height": 472
        },
        "id": "Uv1eoX8c1Sh1",
        "outputId": "bc87ebe6-b4b4-4a9e-c975-4174c516b667"
      },
      "execution_count": null,
      "outputs": [
        {
          "output_type": "display_data",
          "data": {
            "text/plain": [
              "<Figure size 640x480 with 1 Axes>"
            ],
            "image/png": "[encoded data removed]"
          },
          "metadata": {}
        }
      ]
    },
    {
      "cell_type": "markdown",
      "source": [
        "5. Training the Random Forest Model\n"
      ],
      "metadata": {
        "id": "2AeX5S5ZI8yZ"
      }
    },
    {
      "cell_type": "code",
      "source": [
        "# ... existing code up to splitting data into training and testing sets ...\n",
        "\n",
        "from sklearn.preprocessing import OneHotEncoder\n",
        "from sklearn.model_selection import train_test_split\n",
        "from sklearn.ensemble import RandomForestClassifier\n",
        "from pandas.api.types import is_datetime64_dtype\n",
        "\n",
        "\n",
        "# Assuming X_train is a NumPy array, convert it to a DataFrame first\n",
        "X_train_df = pd.DataFrame(X_train)\n",
        "X_test_df = pd.DataFrame(X_test)\n",
        "\n",
        "\n",
        "# Identify potential string columns (replace with actual column names if needed)\n",
        "string_cols = [X_train_df.columns[i] for i in [0, 1, 3, 4, 7, 8]]  # Select all column names by position\n",
        "\n",
        "# Handle missing values (replace with appropriate strategy if needed)\n",
        "X_train_df[string_cols] = X_train_df[string_cols].fillna('NAN')  # Assuming filling with 'NA' for missing values in string columns\n",
        "\n",
        "# Identify potential string columns (replace with actual column names if needed)\n",
        "#string_cols = ['idAnomalia', 'idConcentratore', 'latitudine', 'longitudine', 'note', 'idPunto' ]  # Assuming idConcentratore is categorical\n",
        "#datetime_cols = ['dataAnomalia', 'dataCoordinate', 'dataSegnalazione']\n",
        "\n",
        "\n",
        "print(X_train_df.columns)\n",
        "# print(data)\n",
        "\n",
        "# Separate string and datetime features using .loc for label-based selection\n",
        "# string_features = X_train_df[string_cols]\n",
        "string_features = X_train_df.iloc[:, [0, 1, 3, 4, 7, 8]]\n",
        "\n",
        "print(X_train_df.dtypes[[0, 1, 3, 4, 7, 8]])  # Assuming these are the positions\n",
        "print(X_train_df.dtypes[[2, 5, 6]])\n",
        "\n",
        "print(X_train_df.head())\n",
        "print(X_train_df.tail())\n",
        "\n",
        "# Convert all values in string columns to strings\n",
        "X_train_df[string_cols] = X_train_df[string_cols].astype(str)\n",
        "\n",
        "# One-hot encode categorical string features\n",
        "encoder = OneHotEncoder(sparse=True)  # Consider sparse=True for memory efficiency with many categories\n",
        "encoded_string_features = encoder.fit_transform(X_train_df[string_cols])\n",
        "\n",
        "# Handle datetime features (assuming numerical representation)\n",
        "\n",
        "# datetime_features = X_train_df[datetime_cols]\n",
        "###### datetime_cols = X_train_df.iloc[:, [2, 5, 6]]\n",
        "\n",
        "datetime_cols = [col for col in X_train_df.columns if is_datetime64_dtype(X_train_df[col])]\n",
        "#datetime_features = X_train_df[datetime_cols].apply(pd.to_datetime)\n",
        "\n",
        "datetime_features = X_train_df[datetime_cols]\n",
        "\n",
        "# datetime_features['year'] = datetime_features.iloc[:, 0].dt.year\n",
        "# datetime_features['month'] = datetime_features.iloc[:, 0].dt.month\n",
        "# datetime_features['day'] = datetime_features.iloc[:, 0].dt.day\n",
        "# datetime_features['hour'] = datetime_features.iloc[:, 0].dt.hour\n",
        "# datetime_features['minute'] = datetime_features.iloc[:, 0].dt.minute\n",
        "# datetime_features['second'] = datetime_features.iloc[:, 0].dt.second\n",
        "\n",
        "# Use .assign to create a new DataFrame with modifications\n",
        "datetime_features = datetime_features.assign(\n",
        "    year=datetime_features.iloc[:, 0].dt.year,\n",
        "    month=datetime_features.iloc[:, 0].dt.month,\n",
        "    day = datetime_features.iloc[:, 0].dt.day,\n",
        "    hour = datetime_features.iloc[:, 0].dt.hour,\n",
        "    minute = datetime_features.iloc[:, 0].dt.minute,\n",
        "    second = datetime_features.iloc[:, 0].dt.second\n",
        "    # ... add other datetime features\n",
        ")\n",
        "\n",
        "# Concatenate arrays directly (memory-efficient)\n",
        "X_train_preprocessed = np.concatenate([X_train, encoded_string_features.toarray()], axis=1)\n",
        "X_train_preprocessed = np.concatenate([X_train_preprocessed, datetime_features.values], axis=1)\n",
        "\n",
        "\n",
        "#X_train_preprocessed = pd.concat([encoded_string_features, datetime_features], axis=1)\n",
        "\n",
        "\n",
        "# Replace with your chosen method (e.g., extracting year, month, day, hour)\n",
        "# datetime_features = X_train[datetime_cols].apply(pd.to_datetime)  # Convert to datetime objects\n",
        " # datetime_features['year'] = datetime_features.dt.year  # Extract year as a numerical feature\n",
        " # datetime_features['month'] = datetime_features.dt.month  # Extract month as a numerical feature\n",
        " # datetime_features['day'] = datetime_features.dt.day  # Extract day as a numerical feature\n",
        "#datetime_features['minute'] = datetime_features.dt.minute\n",
        "\n",
        "# Define the Haversine formula to calculate distances between two points\n",
        "def haversine(lat1, lon1, lat2, lon2):\n",
        "\n",
        "  # Convert decimal degrees to radians\n",
        "  lat1, lon1, lat2, lon2 = map(np.radians, [lat1, lon1, lat2, lon2])\n",
        "\n",
        "  # Haversine formula\n",
        "  dlon = lon2 - lon1\n",
        "  dlat = lat2 - lat1\n",
        "  a = np.sin(dlat / 2) ** 2 + np.cos(lat1) * np.cos(lat2) * np.sin(dlon / 2) ** 2\n",
        "  c = 2 * np.arcsin(np.sqrt(a))\n",
        "  r = 6371 # Radius of Earth in km. Maybe use 3440 for Nautical Mile\n",
        "  return c * r * 1000 # Convert to meters\n",
        "\n",
        "# Reference point for distance calculation (you can choose any reference point)\n",
        "REFERENCE_LATITUDE = 0\n",
        "REFERENCE_LONGITUDE = 0\n",
        "\n",
        "\n",
        "# Assuming 'latitudine' and 'longitudine' contain strings representing numerical values\n",
        "df['latitudine'] = pd.to_numeric(df['latitudine'], errors='coerce')\n",
        "df['longitudine'] = pd.to_numeric(df['longitudine'], errors='coerce')\n",
        "\n",
        "# Convert to radians for Haversine formula\n",
        "df['latitudine_rad'] = np.radians(df['latitudine'])\n",
        "df['longitudine_rad'] = np.radians(df['longitudine'])\n",
        "\n",
        "# Calculate distances using Haversine formula and convert to meters\n",
        "naval_miles_to_meters = 1852  # 1 naval mile = 1852 meters\n",
        "df['distance_from_origin'] = haversine(REFERENCE_LATITUDE, REFERENCE_LONGITUDE, df['latitudine'], df['longitudine']) * naval_miles_to_meters\n",
        "\n",
        "\n",
        "# Combine preprocessed features\n",
        "# encoded_string_features_df = encoded_string_features.toarray()\n",
        "\n",
        "# X_train_preprocessed = np.concatenate([X_train, encoded_string_features], axis=1)\n",
        "# X_train_preprocessed = np.concatenate([X_train_preprocessed, datetime_features.values], axis=1)\n",
        "\n",
        "\n",
        "\n",
        "#X_train_preprocessed = pd.concat([encoded_string_features, datetime_features], axis=1)\n",
        "\n",
        "# Concatenate encoded features with the rest of the features (if applicable)\n",
        "# X_train_encoded = np.concatenate([X_train, encoded_features], axis=1)\n",
        "\n",
        "# Import RandomForestClassifier from scikit-learn\n",
        "from sklearn.ensemble import RandomForestClassifier\n",
        "\n",
        "# Create a Random Forest Classifier object\n",
        "model = RandomForestClassifier()\n",
        "\n",
        "# Train the model on the training data\n",
        "model.fit(X_train, y_train)  # Use encoded features for training\n",
        "\n",
        "# Print a message to confirm successful training\n",
        "print(\"\\nRandom Forest model trained successfully!\")"
      ],
      "metadata": {
        "id": "5TWP9icRJDhs",
        "colab": {
          "base_uri": "https://localhost:8080/"
        },
        "outputId": "d96f240e-336e-4236-ac7e-7ce7491a3310"
      },
      "execution_count": null,
      "outputs": [
        {
          "output_type": "stream",
          "name": "stdout",
          "text": [
            "RangeIndex(start=0, stop=9, step=1)\n",
            "0     int64\n",
            "1    object\n",
            "3    object\n",
            "4    object\n",
            "7    object\n",
            "8    object\n",
            "dtype: object\n",
            "2    datetime64[ns]\n",
            "5    datetime64[ns]\n",
            "6    datetime64[ns]\n",
            "dtype: object\n",
            "          0         1                   2        3        4  \\\n",
            "0  36030347  SR015337 2021-01-21 10:23:25  40,7769  14,5443   \n",
            "1  36046757  SR017439 2021-01-23 09:32:58  44,6053  10,8673   \n",
            "2  36079751  SR012013 2021-01-29 21:52:50  43,5858   10,314   \n",
            "3  36084252  SR012013 2021-01-30 16:08:42  43,5858   10,314   \n",
            "4  36350344  SR014091 2021-10-15 08:37:34  37,6872  14,0527   \n",
            "\n",
            "                    5                       6   7       8  \n",
            "0 2021-01-21 10:23:25 2021-01-21 12:10:50.397  12  319303  \n",
            "1 2021-01-23 09:32:58 2021-01-23 10:55:37.590  2B   14226  \n",
            "2 2021-01-29 21:52:50 2021-01-29 23:21:41.607   6   30605  \n",
            "3 2021-01-30 16:08:42 2021-01-30 16:23:45.897   6   30605  \n",
            "4 2021-10-15 08:37:34 2021-10-18 22:45:43.693   6    NULL  \n",
            "               0         1                   2        3        4  \\\n",
            "171998  36172120  SR017430 2021-04-24 06:53:56  45,6841   9,0167   \n",
            "171999  36088975  SR019004 2021-02-01 08:04:38  45,1806   7,7879   \n",
            "172000  36343837  SR013344 2021-10-11 02:33:50  41,8321  12,6554   \n",
            "172001  36522173  SR013344 2022-02-25 06:45:36  41,5562  13,4228   \n",
            "172002  36205463  SR019219 2021-06-02 09:45:11  43,7402  11,2793   \n",
            "\n",
            "                         5                       6   7       8  \n",
            "171998 2021-04-24 06:53:56 2021-04-27 10:12:31.360  16    NULL  \n",
            "171999 2021-02-01 08:04:38 2021-02-01 08:40:49.037  12   20720  \n",
            "172000 2021-10-11 02:33:50 2021-10-13 19:40:29.380   6   82856  \n",
            "172001 2022-02-25 06:45:36 2022-02-28 21:21:17.233   6   60158  \n",
            "172002 2021-06-02 09:45:11 2021-06-05 14:41:02.097   6  193104  \n"
          ]
        },
        {
          "output_type": "stream",
          "name": "stderr",
          "text": [
            "/usr/local/lib/python3.10/dist-packages/sklearn/preprocessing/_encoders.py:868: FutureWarning: `sparse` was renamed to `sparse_output` in version 1.2 and will be removed in 1.4. `sparse_output` is ignored unless you leave `sparse` to its default value.\n",
            "  warnings.warn(\n"
          ]
        }
      ]
    },
    {
      "cell_type": "code",
      "source": [
        "# Assuming X_train was originally a DataFrame\n",
        "\n",
        "print(type(X_train))  # Check the type of X_train before conversion\n",
        "print(X_train_df.columns)\n",
        "#X_train_df = pd.DataFrame(X_train)\n",
        "#print(X_train_df.dtypes)\n",
        "\n",
        "\n"
      ],
      "metadata": {
        "colab": {
          "base_uri": "https://localhost:8080/"
        },
        "id": "gQH-pCmBkv9y",
        "outputId": "05257054-01ee-4b72-cdba-13e63c8b2c93"
      },
      "execution_count": null,
      "outputs": [
        {
          "output_type": "stream",
          "name": "stdout",
          "text": [
            "<class 'numpy.ndarray'>\n",
            "RangeIndex(start=0, stop=9, step=1)\n"
          ]
        }
      ]
    },
    {
      "cell_type": "markdown",
      "source": [
        "6. Classification Accuracy"
      ],
      "metadata": {
        "id": "Uo6NLykdJJ0V"
      }
    },
    {
      "cell_type": "code",
      "source": [
        "from sklearn.metrics import accuracy_score\n",
        "\n",
        "# Predict on the training and testing sets\n",
        "y_pred_train = model.predict(X_train)\n",
        "y_pred_test = model.predict(X_test)\n",
        "\n",
        "#Calculate accuray scores\n",
        "accuracy_train = accuracy_score(y_train, y_pred_train)\n",
        "accuracy_test = accuracy_score(y_test, y_pred_test)\n",
        "\n",
        "# Print the accuracy scores (format to 4 decimal places)\n",
        "print(\"\\nModel Accuracy:\")\n",
        "print(f\"  - Training Accuracy: {accuracy_train:.4f}\")\n",
        "print(f\"  - Testing Accuracy: {accuracy_test:.4f}\")"
      ],
      "metadata": {
        "id": "XZ3TDUmjJI6l",
        "colab": {
          "base_uri": "https://localhost:8080/",
          "height": 218
        },
        "outputId": "ec755a60-c9ce-46e8-ae06-2bfc5149ef57"
      },
      "execution_count": null,
      "outputs": [
        {
          "output_type": "error",
          "ename": "NameError",
          "evalue": "name 'model' is not defined",
          "traceback": [
            "\u001b[0;31m---------------------------------------------------------------------------\u001b[0m",
            "\u001b[0;31mNameError\u001b[0m                                 Traceback (most recent call last)",
            "\u001b[0;32m<ipython-input-6-89999b1a952c>\u001b[0m in \u001b[0;36m<cell line: 4>\u001b[0;34m()\u001b[0m\n\u001b[1;32m      2\u001b[0m \u001b[0;34m\u001b[0m\u001b[0m\n\u001b[1;32m      3\u001b[0m \u001b[0;31m# Predict on the training and testing sets\u001b[0m\u001b[0;34m\u001b[0m\u001b[0;34m\u001b[0m\u001b[0m\n\u001b[0;32m----> 4\u001b[0;31m \u001b[0my_pred_train\u001b[0m \u001b[0;34m=\u001b[0m \u001b[0mmodel\u001b[0m\u001b[0;34m.\u001b[0m\u001b[0mpredict\u001b[0m\u001b[0;34m(\u001b[0m\u001b[0mX_train\u001b[0m\u001b[0;34m)\u001b[0m\u001b[0;34m\u001b[0m\u001b[0;34m\u001b[0m\u001b[0m\n\u001b[0m\u001b[1;32m      5\u001b[0m \u001b[0my_pred_test\u001b[0m \u001b[0;34m=\u001b[0m \u001b[0mmodel\u001b[0m\u001b[0;34m.\u001b[0m\u001b[0mpredict\u001b[0m\u001b[0;34m(\u001b[0m\u001b[0mX_test\u001b[0m\u001b[0;34m)\u001b[0m\u001b[0;34m\u001b[0m\u001b[0;34m\u001b[0m\u001b[0m\n\u001b[1;32m      6\u001b[0m \u001b[0;34m\u001b[0m\u001b[0m\n",
            "\u001b[0;31mNameError\u001b[0m: name 'model' is not defined"
          ]
        }
      ]
    },
    {
      "cell_type": "markdown",
      "source": [
        "7. Confusion Matrix"
      ],
      "metadata": {
        "id": "1eUKnA7SLz0Q"
      }
    },
    {
      "cell_type": "code",
      "source": [
        "from sklearn.metrics import confusion_matrix\n",
        "\n",
        "# Generate the confusion matrix\n",
        "cm = confusion_matrix(y_test, y_pred_test)\n",
        "\n",
        "# Print the confusion matrix\n",
        "print(\"\\nConfusion Matrix:\")\n",
        "print(cm)"
      ],
      "metadata": {
        "id": "eufSeVqcMASg"
      },
      "execution_count": null,
      "outputs": []
    },
    {
      "cell_type": "markdown",
      "source": [
        "8. Visualize confusion matrix"
      ],
      "metadata": {
        "id": "nrsXU_7ZMkOW"
      }
    },
    {
      "cell_type": "code",
      "source": [
        "import seaborn as sns\n",
        "\n",
        "# Create and display the confusion matrix heatmap\n",
        "sns.heatmap(cm, annot=True, fmt=\"d\")\n",
        "plt.xlabel(\"Predicted Class\")\n",
        "plt.ylabel(\"True Class\")\n",
        "plt.title(\"Confusion Matrix\")\n",
        "plt.show()"
      ],
      "metadata": {
        "id": "koZWUblGMoBI"
      },
      "execution_count": null,
      "outputs": []
    },
    {
      "cell_type": "markdown",
      "source": [
        "9. Prediction on New Data"
      ],
      "metadata": {
        "id": "n6FYwsMNNPJl"
      }
    },
    {
      "cell_type": "code",
      "source": [
        "# Example: predict on a new data point\n",
        "\n",
        "new_data = [\n",
        "    90026375, \"SR090287\", \"26/05/2023 12:16\", 39.2512, 9.1338,\n",
        "    \"26/05/2023 12:16\", \"22/04/2015 14:24\", None, None  # Use None for null values\n",
        "]\n",
        "\n",
        "\n",
        "# Convert new data to numpy array\n",
        "new_data_array = np.array([new_data])\n",
        "\n",
        "# Make prediction\n",
        "prediction = model.predict(new_data_array)\n",
        "\n",
        "print(\"\\nPrediction for new data point: \")\n",
        "print(f\"  - Predicted class: {prediction[0]}\")\n",
        "\n",
        "# 0 - not theft,  1 - potential theft"
      ],
      "metadata": {
        "id": "KYM3Rr0qNT5S"
      },
      "execution_count": null,
      "outputs": []
    }
  ]
}